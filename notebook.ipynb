{
 "cells": [
  {
   "cell_type": "code",
   "execution_count": 3,
   "id": "c79909a7",
   "metadata": {
    "scrolled": true
   },
   "outputs": [
    {
     "name": "stdout",
     "output_type": "stream",
     "text": [
      "XML file is valid\n",
      "File saved in ./cheque.xml\n",
      "Curl crashed with statuscode: 7\n"
     ]
    }
   ],
   "source": [
    "import numpy as np\n",
    "import pandas as pd\n",
    "\n",
    "\n",
    "import rstr, subprocess\n",
    "from random import randint, choice, uniform\n",
    "\n",
    "\n",
    "import xmlschema\n",
    "import xml.etree.cElementTree as ET\n",
    "\n",
    "\n",
    "eans = pd.read_csv(\"EAN.txt\").T.iloc[0].to_list()\n",
    "inns = pd.read_csv(\"INN.txt\").T.iloc[0].to_list()\n",
    "\n",
    "\n",
    "## Bottle\n",
    "get_bottle = lambda : {\n",
    "    'price': str(round(uniform(100, 1001), 2)),\n",
    "    'barcode': rstr.xeger(\"\\d\\dN\\w{20}\\d[0-1]\\d[0-3]\\d{10}\\w{31}\") ,\n",
    "    'ean': str(choice(eans)),\n",
    "    'volume': str(round(choice(np.linspace(0.1, 3.0, num=59)), 2))\n",
    "}\n",
    "\n",
    "## Cheque\n",
    "get_cheque = lambda : {\n",
    "    'inn': str(choice(inns)),\n",
    "    'kpp': rstr.xeger(\"(\\d{9}|)\"),\n",
    "    'address': ''.join([rstr.xeger(f'[а-я]') for _ in range(randint(10, 21))]),\n",
    "    'name': rstr.xeger('^[A-Za-z0-9]{6,12}$'),\n",
    "    'kassa': rstr.xeger(f'[A-G]') ,\n",
    "    'shift': str(randint(0, 10)),\n",
    "    'number': str(randint(0, 10)),\n",
    "    'datetime': rstr.xeger(r'[0-3][0-9][0-1][0-9][0-9]{2}[0-2][0-9][0-5][0-9]'),\n",
    "\n",
    "}\n",
    "\n",
    "\n",
    "\n",
    "def get_random_cheque():\n",
    "    \n",
    "    root = ET.Element(\"Cheque\", **get_cheque())\n",
    "    \n",
    "    for _ in range(randint(1, 10)):\n",
    "        ET.SubElement(root, \"Bottle\", **get_bottle())\n",
    "    \n",
    "    return root\n",
    "\n",
    "\n",
    "\n",
    "if __name__ == \"__main__\":\n",
    "    \n",
    "    cheque = get_random_cheque()   \n",
    "    \n",
    "    if xmlschema.XMLSchema(\"xsd-схема.xsd\").is_valid(cheque):\n",
    "        \n",
    "        print(\"XML file is valid\")\n",
    "    \n",
    "        ET.ElementTree(cheque).write(\"cheque.xml\")\n",
    "        \n",
    "        print('File saved in ./cheque.xml')\n",
    "\n",
    "        r = subprocess.run([\"curl\", \"-F\", \"xml_file=@cheque.xml\", \"http://localhost:8080/xml\"], capture_output=True)\n",
    "    \n",
    "        if r.returncode == 0:\n",
    "            print(\"Curl finished with statuscode: 0\")\n",
    "    \n",
    "        else:\n",
    "            print(\"Curl crashed with statuscode: \" + str(r.returncode))\n"
   ]
  },
  {
   "cell_type": "code",
   "execution_count": null,
   "id": "55954eb0",
   "metadata": {},
   "outputs": [],
   "source": []
  },
  {
   "cell_type": "code",
   "execution_count": null,
   "id": "624f208e",
   "metadata": {},
   "outputs": [],
   "source": []
  }
 ],
 "metadata": {
  "kernelspec": {
   "display_name": "Python 3 (ipykernel)",
   "language": "python",
   "name": "python3"
  },
  "language_info": {
   "codemirror_mode": {
    "name": "ipython",
    "version": 3
   },
   "file_extension": ".py",
   "mimetype": "text/x-python",
   "name": "python",
   "nbconvert_exporter": "python",
   "pygments_lexer": "ipython3",
   "version": "3.9.7"
  }
 },
 "nbformat": 4,
 "nbformat_minor": 5
}
